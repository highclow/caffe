{
 "metadata": {
  "name": "",
  "signature": "sha256:4cde6fd3f0e81afdfb0b670ebdff19e924a578ca723d6dec8842be16efb5cb5c"
 },
 "nbformat": 3,
 "nbformat_minor": 0,
 "worksheets": []
}